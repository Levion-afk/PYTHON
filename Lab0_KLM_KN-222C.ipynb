{
 "cells": [
  {
   "cell_type": "markdown",
   "id": "ac2d2477",
   "metadata": {},
   "source": [
    "<h1>Ісландія</h1>\n",
    "        <h2>Площа</h2>\n",
    "        <p><strong>Загальна площа:</strong> 103 000 км²</p>\n",
    "        <h2>Населення</h2>\n",
    "        <p><em>Кількість населення:</em> Близько 368 000 осіб</p>\n",
    "        <h2>Державний устрій</h2>\n",
    "        <p><em>Тип:</em> Парламентська республіка</p>\n",
    "        <h2>Видатні Персоналії</h2>\n",
    "        <ol>\n",
    "            <li><em>Бьорк Гудмундсдоттір</em> - відома ісландська співачка та авторка пісень</li>\n",
    "            <li><strong>Лейфур Ейрікссон</strong> - прем'єр-міністр Ісландії (1991–2004)</li>\n",
    "            <li><em>Халльор Лагарді</em> - вчений та винахідник, відомий у галузі фізики</li>\n",
    "        </ol>\n",
    "        <h2>Пам'ятки культури та природи</h2>\n",
    "        <ul>\n",
    "            <li><em>Гейзери</em> - природні термальні джерела</li>\n",
    "            <li><strong>Водоспад Гуллфосс</strong> - один з найвідоміших водоспадів країни</li>\n",
    "            <li><em>Акранесфьйордур</em> - живописний залив з чудовим краєвидом</li>\n",
    "        </ul>\n",
    "        <h2>Прапор</h2>\n",
    "        <img src=\"https://upload.wikimedia.org/wikipedia/commons/thumb/c/ce/Flag_of_Iceland.svg/1280px-Flag_of_Iceland.svg.png\" alt=\"Прапор Ісландії\" width=\"100\" height=\"60\">\n",
    "        <h2>Гіперпосилання</h2>\n",
    "        <p><a href=\"https://en.wikipedia.org/wiki/Iceland\">Додаткова інформація про Ісландію</a></p>"
   ]
  },
  {
   "cell_type": "code",
   "execution_count": 1,
   "id": "d02c1fb2",
   "metadata": {},
   "outputs": [
    {
     "data": {
      "text/html": [
       "<style>\n",
       "    .border {\n",
       "        border: 1px solid #000;\n",
       "        padding: 10px;\n",
       "        margin-bottom: 20px;\n",
       "    }\n",
       "</style>\n",
       "<table>\n",
       "<div class=\"border\">\n",
       "<h2>Таблиця</h2>\n",
       "    <tr>\n",
       "        <th>Параметр</th>\n",
       "        <th>Значення</th>\n",
       "    </tr>\n",
       "    <tr>\n",
       "        <td>Загальна площа</td>\n",
       "        <td>103 000 км²</td>\n",
       "    </tr>\n",
       "    <tr>\n",
       "        <td>Кількість населення</td>\n",
       "        <td>Близько 368 000 осіб</td>\n",
       "    </tr>\n",
       "    <tr>\n",
       "        <td>Тип державного устрою</td>\n",
       "        <td>Парламентська республіка</td>\n",
       "    </tr>\n",
       "</table>\n",
       "</div>\n",
       "<svg xmlns=\"http://www.w3.org/2000/svg\"  width=\"300\" height=\"200\" viewBox=\"0 0 25 18\">\n",
       "<path d=\"M0 0H25V18H0Z\" fill=\"#02529C\"/>\n",
       "<path d=\"M0 9H25M9 0V18\" stroke-width=\"4\" stroke=\"#FFF\"/>\n",
       "<path d=\"M0 9H25M9 0V18\" stroke-width=\"2\" stroke=\"#DC1E35\"/>\n",
       "</svg>\n"
      ],
      "text/plain": [
       "<IPython.core.display.HTML object>"
      ]
     },
     "metadata": {},
     "output_type": "display_data"
    }
   ],
   "source": [
    "%%HTML\n",
    "<style>\n",
    "    .border {\n",
    "        border: 1px solid #000;\n",
    "        padding: 10px;\n",
    "        margin-bottom: 20px;\n",
    "    }\n",
    "</style>\n",
    "<table>\n",
    "<div class=\"border\">\n",
    "<h2>Таблиця</h2>\n",
    "    <tr>\n",
    "        <th>Параметр</th>\n",
    "        <th>Значення</th>\n",
    "    </tr>\n",
    "    <tr>\n",
    "        <td>Загальна площа</td>\n",
    "        <td>103 000 км²</td>\n",
    "    </tr>\n",
    "    <tr>\n",
    "        <td>Кількість населення</td>\n",
    "        <td>Близько 368 000 осіб</td>\n",
    "    </tr>\n",
    "    <tr>\n",
    "        <td>Тип державного устрою</td>\n",
    "        <td>Парламентська республіка</td>\n",
    "    </tr>\n",
    "</table>\n",
    "</div>\n",
    "<svg xmlns=\"http://www.w3.org/2000/svg\"  width=\"300\" height=\"200\" viewBox=\"0 0 25 18\">\n",
    "<path d=\"M0 0H25V18H0Z\" fill=\"#02529C\"/>\n",
    "<path d=\"M0 9H25M9 0V18\" stroke-width=\"4\" stroke=\"#FFF\"/>\n",
    "<path d=\"M0 9H25M9 0V18\" stroke-width=\"2\" stroke=\"#DC1E35\"/>\n",
    "</svg>"
   ]
  },
  {
   "cell_type": "code",
   "execution_count": 2,
   "id": "171fcdaf",
   "metadata": {},
   "outputs": [
    {
     "ename": "SyntaxError",
     "evalue": "unterminated string literal (detected at line 15) (1822616323.py, line 15)",
     "output_type": "error",
     "traceback": [
      "\u001b[1;36m  Cell \u001b[1;32mIn[2], line 15\u001b[1;36m\u001b[0m\n\u001b[1;33m    result = f'{number} у двійковій системі буде\u001b[0m\n\u001b[1;37m             ^\u001b[0m\n\u001b[1;31mSyntaxError\u001b[0m\u001b[1;31m:\u001b[0m unterminated string literal (detected at line 15)\n"
     ]
    }
   ],
   "source": [
    "def task_7(number):\n",
    "    integer_part = int(abs(number))\n",
    "    decimal_part = abs(number) - integer_part if number % 1 != 0 else 0\n",
    "    \n",
    "    binary_integer = bin(integer_part)[2:]\n",
    "    \n",
    "    binary_decimal = \"\"\n",
    "    if decimal_part > 0:\n",
    "        binary_decimal = \".\"\n",
    "        while decimal_part > 0:\n",
    "            decimal_part *= 2\n",
    "            binary_decimal += str(int(decimal_part))\n",
    "            decimal_part -= int(decimal_part)\n",
    "            \n",
    "    result = f'{number} у двійковій системі буде \n",
    "    {\"-\" if number < 0 else \"0\"}|{binary_integer}' + (f'.{binary_decimal}' if binary_decimal else '')\n",
    "    return result"
   ]
  },
  {
   "cell_type": "code",
   "execution_count": null,
   "id": "cdc1c368",
   "metadata": {},
   "outputs": [],
   "source": [
    "task_7(32)"
   ]
  },
  {
   "cell_type": "code",
   "execution_count": null,
   "id": "0a1d81eb",
   "metadata": {},
   "outputs": [],
   "source": [
    "task_7(-5)"
   ]
  },
  {
   "cell_type": "code",
   "execution_count": null,
   "id": "ed02891e",
   "metadata": {},
   "outputs": [],
   "source": [
    "task_7(12.5)"
   ]
  }
 ],
 "metadata": {
  "kernelspec": {
   "display_name": "Python 3 (ipykernel)",
   "language": "python",
   "name": "python3"
  },
  "language_info": {
   "codemirror_mode": {
    "name": "ipython",
    "version": 3
   },
   "file_extension": ".py",
   "mimetype": "text/x-python",
   "name": "python",
   "nbconvert_exporter": "python",
   "pygments_lexer": "ipython3",
   "version": "3.11.5"
  }
 },
 "nbformat": 4,
 "nbformat_minor": 5
}
